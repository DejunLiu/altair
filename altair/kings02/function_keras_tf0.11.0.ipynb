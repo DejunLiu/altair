{
 "cells": [
  {
   "cell_type": "code",
   "execution_count": 1,
   "metadata": {
    "collapsed": false
   },
   "outputs": [],
   "source": [
    "import os\n",
    "#os.environ['THEANO_FLAGS'] = 'floatX=float32,device=gpu'\n",
    "##os.environ['THEANO_FLAGS'] = 'floatX=float32,device=gpu,optimizer=fast_compile'\n",
    "#os.environ[\"PATH\"] += os.pathsep + \"/usr/local/cuda/bin/\"\n",
    "\n",
    "del os.environ[\"THEANO_FLAGS\"]"
   ]
  },
  {
   "cell_type": "code",
   "execution_count": 2,
   "metadata": {
    "collapsed": false
   },
   "outputs": [
    {
     "name": "stderr",
     "output_type": "stream",
     "text": [
      "Using TensorFlow backend.\n"
     ]
    }
   ],
   "source": [
    "import tensorflow as tf\n",
    "#from theano import tensor as T\n",
    "import numpy as np\n",
    "from keras.models import Sequential\n",
    "from keras.layers import Dense, RepeatVector\n",
    "from keras.layers import LSTM, GRU, Input, Merge, Reshape, Activation, Lambda\n",
    "from keras.optimizers import Adam\n",
    "from keras.utils import np_utils\n",
    "from keras.preprocessing.sequence import pad_sequences\n",
    "from keras.models import Model\n",
    "\n",
    "# fix random seed for reproducibility\n",
    "np.random.seed(7)"
   ]
  },
  {
   "cell_type": "code",
   "execution_count": 3,
   "metadata": {
    "collapsed": true
   },
   "outputs": [],
   "source": [
    "# UNK token will be second to last dimension\n",
    "# EOS token will always be the last dimension\n",
    "# If desired_length is not specified, desired_length will be len(document)\n",
    "# If len(document) < desired_length, add an EOS token an pad with zero vectors to reach desired_length\n",
    "# If len(document) > desired_length, truncate to desired_length\n",
    "def encode_document(document, desired_length=-1, min_unicode_idx=0, max_unicode_idx=128):\n",
    "    UNK_IDX = max_unicode_idx\n",
    "    EOS_IDX = max_unicode_idx + 1\n",
    "    if desired_length == -1:\n",
    "        desired_length = len(document)\n",
    "    encoded = np.zeros((desired_length, max_unicode_idx-min_unicode_idx+2)) # +2 for UNK and EOS tokens\n",
    "    for doc_idx, char in enumerate(document[:desired_length]):\n",
    "        char_encoding = ord(char)\n",
    "        if not min_unicode_idx <= char_encoding < max_unicode_idx:\n",
    "            char_encoding = UNK_IDX\n",
    "        encoded[doc_idx, char_encoding-min_unicode_idx] = 1\n",
    "    if len(document) < desired_length:\n",
    "        encoded[len(document[:desired_length]):, EOS_IDX-min_unicode_idx] = 1\n",
    "    #encoded[len(document[:desired_length]), EOS_IDX-min_unicode_idx] = 1\n",
    "    return encoded.reshape(encoded.shape[0], 1, encoded.shape[1])\n",
    "\n",
    "# By default, desired_length will be the length of the longest document in documents.\n",
    "def encode_documents(documents, desired_length=-1, min_unicode_idx=0, max_unicode_idx=128):\n",
    "    if desired_length == -1:\n",
    "        desired_length = max([len(document) for document in documents])\n",
    "    encodeds = []\n",
    "    for document in documents:\n",
    "        encodeds.append(encode_document(document, desired_length, min_unicode_idx, max_unicode_idx))\n",
    "    e = np.array(encodeds)\n",
    "    return e\n",
    "\n",
    "# encoded must be one-hot, encoded via encode_document()\n",
    "def decode_document(encoded, min_unicode_idx=0, max_unicode_idx=128, unk_decode_idx=32):\n",
    "    UNK_IDX = max_unicode_idx\n",
    "    EOS_IDX = max_unicode_idx + 1\n",
    "    decoded = \"\"\n",
    "    for idx in np.nonzero(encoded)[1]:\n",
    "        candidate = idx + min_unicode_idx\n",
    "        if candidate == UNK_IDX:\n",
    "            candidate = unk_decode_idx\n",
    "        elif candidate == EOS_IDX:\n",
    "            continue\n",
    "        decoded += chr(candidate)\n",
    "    return decoded\n",
    "\n",
    "def decode_documents(encodeds, min_unicode_idx=0, max_unicode_idx=128):\n",
    "    decodeds = []\n",
    "    for encoded in encodeds:\n",
    "        decodeds.append(decode_document(encoded, min_unicode_idx, max_unicode_idx))\n",
    "    return decodeds"
   ]
  },
  {
   "cell_type": "code",
   "execution_count": 4,
   "metadata": {
    "collapsed": true
   },
   "outputs": [],
   "source": [
    "def one_hot_conversion(predictions):\n",
    "    converted = np.zeros(predictions.shape)\n",
    "    for prediction_idx, prediction in enumerate(predictions):\n",
    "        for elem_idx, elem in enumerate(prediction):\n",
    "            converted[prediction_idx, elem_idx, np.argmax(elem)] = 1\n",
    "    return converted"
   ]
  },
  {
   "cell_type": "code",
   "execution_count": 5,
   "metadata": {
    "collapsed": false
   },
   "outputs": [],
   "source": [
    "from redbaron import RedBaron\n",
    "\n",
    "with open(\"sample.py\", \"r\") as f:\n",
    "    source = f.read()\n",
    "with open(\"sample.py\", \"r\") as f:\n",
    "    lines = f.readlines()\n",
    "\n",
    "red = RedBaron(source)\n",
    "data = []\n",
    "for fn_node in red.findAll(\"DefNode\"):\n",
    "    starting_line = fn_node.absolute_bounding_box.top_left.to_tuple()[0]\n",
    "    ending_line = fn_node.absolute_bounding_box.bottom_right.to_tuple()[0]\n",
    "    fn_lines = lines[starting_line-1:ending_line-1]\n",
    "    data.append(\"\".join(fn_lines).rstrip())"
   ]
  },
  {
   "cell_type": "code",
   "execution_count": 6,
   "metadata": {
    "collapsed": true
   },
   "outputs": [],
   "source": [
    "#raw = [\"This is a test.\", \"This is a test2\", \"This is a test3\"]"
   ]
  },
  {
   "cell_type": "code",
   "execution_count": 7,
   "metadata": {
    "collapsed": false
   },
   "outputs": [
    {
     "name": "stdout",
     "output_type": "stream",
     "text": [
      "[\"    def __init__(self, options, selectedoptions=None):\\n        QDialog.__init__(self)\\n        self.setupUi(self)\\n\\n        self.options = options\\n        self.selectedoptions = selectedoptions\\n\\n        # Additional buttons\\n        self.btnSelectAll = QPushButton(self.tr('Select all'))\\n        self.buttonBox.addButton(self.btnSelectAll,\\n                                 QDialogButtonBox.ActionRole)\\n        self.btnClearSelection = QPushButton(self.tr('Clear selection'))\\n        self.buttonBox.addButton(self.btnClearSelection,\\n                                 QDialogButtonBox.ActionRole)\\n        self.btnToggleSelection = QPushButton(self.tr('Toggle selection'))\\n        self.buttonBox.addButton(self.btnToggleSelection,\\n                                 QDialogButtonBox.ActionRole)\\n\\n        self.btnSelectAll.clicked.connect(self.selectAll)\\n        self.btnClearSelection.clicked.connect(self.lstLayers.clearSelection)\\n        self.btnToggleSelection.clicked.connect(self.toggleSelection)\\n\\n        self.populateList()\", '    def populateList(self):\\n        self.lstLayers.clear()\\n        self.lstLayers.addItems(self.options)\\n        selModel = self.lstLayers.selectionModel()\\n        self.lstLayers.blockSignals(True)\\n        for i in xrange(self.lstLayers.count()):\\n            item = self.lstLayers.item(i)\\n            if self.lstLayers.indexFromItem(item).row() in self.selectedoptions:\\n                selModel.select(self.lstLayers.indexFromItem(item),\\n                                QItemSelectionModel.Select)\\n        self.lstLayers.blockSignals(False)', '    def accept(self):\\n        self.selectedoptions = []\\n        for i in self.lstLayers.selectedItems():\\n            self.selectedoptions.append(self.lstLayers.indexFromItem(i).row())\\n        QDialog.accept(self)', '    def reject(self):\\n        self.selectedoptions = None\\n        QDialog.reject(self)', '    def selectAll(self):\\n        selModel = self.lstLayers.selectionModel()\\n        self.lstLayers.blockSignals(True)\\n        for i in xrange(self.lstLayers.count()):\\n            item = self.lstLayers.item(i)\\n            selModel.select(self.lstLayers.indexFromItem(item),\\n                            QItemSelectionModel.Select)\\n        self.lstLayers.blockSignals(False)', '    def toggleSelection(self):\\n        selModel = self.lstLayers.selectionModel()\\n        self.lstLayers.blockSignals(True)\\n        for i in xrange(self.lstLayers.count()):\\n            item = self.lstLayers.item(i)\\n            selModel.select(self.lstLayers.indexFromItem(item),\\n                            QItemSelectionModel.Toggle)\\n        self.lstLayers.blockSignals(False)']\n"
     ]
    }
   ],
   "source": [
    "raw = data\n",
    "print(raw)"
   ]
  },
  {
   "cell_type": "code",
   "execution_count": 8,
   "metadata": {
    "collapsed": true
   },
   "outputs": [],
   "source": [
    "dimIn = 130\n",
    "dim = 260\n",
    "num_epochs = 5000"
   ]
  },
  {
   "cell_type": "code",
   "execution_count": 9,
   "metadata": {
    "collapsed": false
   },
   "outputs": [],
   "source": [
    "e = encode_documents(raw)\n",
    "X = e.reshape(e.shape[0], e.shape[1], e.shape[3])"
   ]
  },
  {
   "cell_type": "code",
   "execution_count": 10,
   "metadata": {
    "collapsed": false
   },
   "outputs": [
    {
     "data": {
      "text/plain": [
       "(6, 1021, 130)"
      ]
     },
     "execution_count": 10,
     "metadata": {},
     "output_type": "execute_result"
    }
   ],
   "source": [
    "X.shape"
   ]
  },
  {
   "cell_type": "code",
   "execution_count": 11,
   "metadata": {
    "collapsed": false
   },
   "outputs": [
    {
     "name": "stdout",
     "output_type": "stream",
     "text": [
      "(?, 1021, 130)\n"
     ]
    }
   ],
   "source": [
    "# create and fit the model\n",
    "x0 = Input(shape=X[0].shape)\n",
    "print(x0.get_shape())"
   ]
  },
  {
   "cell_type": "code",
   "execution_count": 12,
   "metadata": {
    "collapsed": true
   },
   "outputs": [],
   "source": [
    "def fork_and_gru(input_layer, activation='relu', return_sequences=False):\n",
    "    fork = Dense(dim, activation='linear')(input_layer)\n",
    "    gru = GRU(dim, activation=activation, return_sequences=return_sequences)(fork)\n",
    "    return fork, gru"
   ]
  },
  {
   "cell_type": "code",
   "execution_count": 13,
   "metadata": {
    "collapsed": false
   },
   "outputs": [],
   "source": [
    "fork1, gru1 = fork_and_gru(x0, return_sequences=True)\n",
    "fork2, gru2 = fork_and_gru(gru1, return_sequences=True)\n",
    "fork3, gru3 = fork_and_gru(gru2, return_sequences=False)\n",
    "\n",
    "#fork3, gru3 = fork_and_gru(x0, return_sequences=False)"
   ]
  },
  {
   "cell_type": "code",
   "execution_count": 14,
   "metadata": {
    "collapsed": false
   },
   "outputs": [
    {
     "name": "stdout",
     "output_type": "stream",
     "text": [
      "(?, 130)\n"
     ]
    }
   ],
   "source": [
    "x3 = Dense(dimIn, activation='linear')(gru3)\n",
    "print(x3.get_shape())"
   ]
  },
  {
   "cell_type": "code",
   "execution_count": 15,
   "metadata": {
    "collapsed": false
   },
   "outputs": [
    {
     "name": "stdout",
     "output_type": "stream",
     "text": [
      "(?, 1, 130)\n"
     ]
    }
   ],
   "source": [
    "x3b = Reshape((1, dimIn))(x3)\n",
    "print(x3b.get_shape())"
   ]
  },
  {
   "cell_type": "code",
   "execution_count": 16,
   "metadata": {
    "collapsed": false
   },
   "outputs": [
    {
     "name": "stdout",
     "output_type": "stream",
     "text": [
      "(?, 1021, 130)\n"
     ]
    }
   ],
   "source": [
    "def shift_by_one(t1, t2):\n",
    "    t3 = tf.concat(values=[t1, t2], concat_dim=1) #T.concatenate([t1, t2], axis=1)\n",
    "    return t3[:, :-1, :]\n",
    "x4 = Lambda(shift_by_one, arguments={\"t2\": x0})(x3b)\n",
    "print(x4.get_shape())"
   ]
  },
  {
   "cell_type": "code",
   "execution_count": 17,
   "metadata": {
    "collapsed": false
   },
   "outputs": [
    {
     "name": "stdout",
     "output_type": "stream",
     "text": [
      "(?, ?, 130)\n"
     ]
    }
   ],
   "source": [
    "x5 = Dense(dimIn, activation='linear')(x4)\n",
    "print(x5.get_shape())"
   ]
  },
  {
   "cell_type": "code",
   "execution_count": 18,
   "metadata": {
    "collapsed": false
   },
   "outputs": [
    {
     "name": "stdout",
     "output_type": "stream",
     "text": [
      "(?, ?, 130)\n"
     ]
    }
   ],
   "source": [
    "x6 = GRU(dimIn, activation='relu', return_sequences=True)(x5)\n",
    "print(x6.get_shape())"
   ]
  },
  {
   "cell_type": "code",
   "execution_count": 19,
   "metadata": {
    "collapsed": false
   },
   "outputs": [
    {
     "name": "stdout",
     "output_type": "stream",
     "text": [
      "(?, ?, 130)\n"
     ]
    }
   ],
   "source": [
    "x7 = Activation(\"softmax\")(x6)\n",
    "print(x7.get_shape())"
   ]
  },
  {
   "cell_type": "code",
   "execution_count": 20,
   "metadata": {
    "collapsed": true
   },
   "outputs": [],
   "source": [
    "model = Model(input=x0, output=x7)"
   ]
  },
  {
   "cell_type": "code",
   "execution_count": 21,
   "metadata": {
    "collapsed": true
   },
   "outputs": [],
   "source": [
    "opt = Adam() #clipnorm=1\n",
    "model.compile(loss='categorical_crossentropy', optimizer=opt, metrics=['categorical_accuracy'])"
   ]
  },
  {
   "cell_type": "code",
   "execution_count": 22,
   "metadata": {
    "collapsed": true
   },
   "outputs": [],
   "source": [
    "cur_epoch = 0"
   ]
  },
  {
   "cell_type": "code",
   "execution_count": 23,
   "metadata": {
    "collapsed": false,
    "scrolled": true
   },
   "outputs": [
    {
     "name": "stdout",
     "output_type": "stream",
     "text": [
      "Epoch 1/1\n",
      "4s - loss: 4.8113 - categorical_accuracy: 3.2648e-04\n",
      "Current epoch: 0\n",
      "Epoch 1/1\n",
      "3s - loss: 4.7786 - categorical_accuracy: 4.8972e-04\n",
      "Current epoch: 1\n",
      "Epoch 1/1\n",
      "3s - loss: 4.7413 - categorical_accuracy: 0.0075\n",
      "Current epoch: 2\n",
      "Epoch 1/1\n",
      "3s - loss: 4.7022 - categorical_accuracy: 0.5824\n",
      "Current epoch: 3\n",
      "Epoch 1/1\n",
      "3s - loss: 4.6619 - categorical_accuracy: 0.6642\n",
      "Current epoch: 4\n",
      "Epoch 1/1\n",
      "3s - loss: 4.6183 - categorical_accuracy: 0.6742\n",
      "Current epoch: 5\n",
      "Epoch 1/1\n"
     ]
    },
    {
     "ename": "KeyboardInterrupt",
     "evalue": "",
     "output_type": "error",
     "traceback": [
      "\u001b[0;31m---------------------------------------------------------------------------\u001b[0m",
      "\u001b[0;31mKeyboardInterrupt\u001b[0m                         Traceback (most recent call last)",
      "\u001b[0;32m<ipython-input-23-91c9887d0a10>\u001b[0m in \u001b[0;36m<module>\u001b[0;34m()\u001b[0m\n\u001b[1;32m      2\u001b[0m     \u001b[0;32mif\u001b[0m \u001b[0mcur_epoch\u001b[0m \u001b[0;34m>=\u001b[0m \u001b[0mnum_epochs\u001b[0m\u001b[0;34m:\u001b[0m\u001b[0;34m\u001b[0m\u001b[0m\n\u001b[1;32m      3\u001b[0m         \u001b[0;32mbreak\u001b[0m\u001b[0;34m\u001b[0m\u001b[0m\n\u001b[0;32m----> 4\u001b[0;31m     \u001b[0mmodel\u001b[0m\u001b[0;34m.\u001b[0m\u001b[0mfit\u001b[0m\u001b[0;34m(\u001b[0m\u001b[0mX\u001b[0m\u001b[0;34m,\u001b[0m \u001b[0mX\u001b[0m\u001b[0;34m,\u001b[0m \u001b[0mbatch_size\u001b[0m\u001b[0;34m=\u001b[0m\u001b[0mlen\u001b[0m\u001b[0;34m(\u001b[0m\u001b[0mX\u001b[0m\u001b[0;34m)\u001b[0m\u001b[0;34m,\u001b[0m \u001b[0mnb_epoch\u001b[0m\u001b[0;34m=\u001b[0m\u001b[0;36m1\u001b[0m\u001b[0;34m,\u001b[0m \u001b[0mverbose\u001b[0m\u001b[0;34m=\u001b[0m\u001b[0;36m2\u001b[0m\u001b[0;34m,\u001b[0m \u001b[0mshuffle\u001b[0m\u001b[0;34m=\u001b[0m\u001b[0;32mFalse\u001b[0m\u001b[0;34m)\u001b[0m\u001b[0;34m\u001b[0m\u001b[0m\n\u001b[0m\u001b[1;32m      5\u001b[0m     \u001b[0mprint\u001b[0m\u001b[0;34m(\u001b[0m\u001b[0;34m\"Current epoch: %s\"\u001b[0m \u001b[0;34m%\u001b[0m \u001b[0mcur_epoch\u001b[0m\u001b[0;34m)\u001b[0m\u001b[0;34m\u001b[0m\u001b[0m\n\u001b[1;32m      6\u001b[0m     \u001b[0mcur_epoch\u001b[0m \u001b[0;34m+=\u001b[0m \u001b[0;36m1\u001b[0m\u001b[0;34m\u001b[0m\u001b[0m\n",
      "\u001b[0;32m/opt/conda/envs/altair/lib/python3.5/site-packages/keras/engine/training.py\u001b[0m in \u001b[0;36mfit\u001b[0;34m(self, x, y, batch_size, nb_epoch, verbose, callbacks, validation_split, validation_data, shuffle, class_weight, sample_weight, initial_epoch)\u001b[0m\n\u001b[1;32m   1141\u001b[0m                               \u001b[0mval_f\u001b[0m\u001b[0;34m=\u001b[0m\u001b[0mval_f\u001b[0m\u001b[0;34m,\u001b[0m \u001b[0mval_ins\u001b[0m\u001b[0;34m=\u001b[0m\u001b[0mval_ins\u001b[0m\u001b[0;34m,\u001b[0m \u001b[0mshuffle\u001b[0m\u001b[0;34m=\u001b[0m\u001b[0mshuffle\u001b[0m\u001b[0;34m,\u001b[0m\u001b[0;34m\u001b[0m\u001b[0m\n\u001b[1;32m   1142\u001b[0m                               \u001b[0mcallback_metrics\u001b[0m\u001b[0;34m=\u001b[0m\u001b[0mcallback_metrics\u001b[0m\u001b[0;34m,\u001b[0m\u001b[0;34m\u001b[0m\u001b[0m\n\u001b[0;32m-> 1143\u001b[0;31m                               initial_epoch=initial_epoch)\n\u001b[0m\u001b[1;32m   1144\u001b[0m \u001b[0;34m\u001b[0m\u001b[0m\n\u001b[1;32m   1145\u001b[0m     \u001b[0;32mdef\u001b[0m \u001b[0mevaluate\u001b[0m\u001b[0;34m(\u001b[0m\u001b[0mself\u001b[0m\u001b[0;34m,\u001b[0m \u001b[0mx\u001b[0m\u001b[0;34m,\u001b[0m \u001b[0my\u001b[0m\u001b[0;34m,\u001b[0m \u001b[0mbatch_size\u001b[0m\u001b[0;34m=\u001b[0m\u001b[0;36m32\u001b[0m\u001b[0;34m,\u001b[0m \u001b[0mverbose\u001b[0m\u001b[0;34m=\u001b[0m\u001b[0;36m1\u001b[0m\u001b[0;34m,\u001b[0m \u001b[0msample_weight\u001b[0m\u001b[0;34m=\u001b[0m\u001b[0;32mNone\u001b[0m\u001b[0;34m)\u001b[0m\u001b[0;34m:\u001b[0m\u001b[0;34m\u001b[0m\u001b[0m\n",
      "\u001b[0;32m/opt/conda/envs/altair/lib/python3.5/site-packages/keras/engine/training.py\u001b[0m in \u001b[0;36m_fit_loop\u001b[0;34m(self, f, ins, out_labels, batch_size, nb_epoch, verbose, callbacks, val_f, val_ins, shuffle, callback_metrics, initial_epoch)\u001b[0m\n\u001b[1;32m    841\u001b[0m                 \u001b[0mbatch_logs\u001b[0m\u001b[0;34m[\u001b[0m\u001b[0;34m'size'\u001b[0m\u001b[0;34m]\u001b[0m \u001b[0;34m=\u001b[0m \u001b[0mlen\u001b[0m\u001b[0;34m(\u001b[0m\u001b[0mbatch_ids\u001b[0m\u001b[0;34m)\u001b[0m\u001b[0;34m\u001b[0m\u001b[0m\n\u001b[1;32m    842\u001b[0m                 \u001b[0mcallbacks\u001b[0m\u001b[0;34m.\u001b[0m\u001b[0mon_batch_begin\u001b[0m\u001b[0;34m(\u001b[0m\u001b[0mbatch_index\u001b[0m\u001b[0;34m,\u001b[0m \u001b[0mbatch_logs\u001b[0m\u001b[0;34m)\u001b[0m\u001b[0;34m\u001b[0m\u001b[0m\n\u001b[0;32m--> 843\u001b[0;31m                 \u001b[0mouts\u001b[0m \u001b[0;34m=\u001b[0m \u001b[0mf\u001b[0m\u001b[0;34m(\u001b[0m\u001b[0mins_batch\u001b[0m\u001b[0;34m)\u001b[0m\u001b[0;34m\u001b[0m\u001b[0m\n\u001b[0m\u001b[1;32m    844\u001b[0m                 \u001b[0;32mif\u001b[0m \u001b[0;32mnot\u001b[0m \u001b[0misinstance\u001b[0m\u001b[0;34m(\u001b[0m\u001b[0mouts\u001b[0m\u001b[0;34m,\u001b[0m \u001b[0mlist\u001b[0m\u001b[0;34m)\u001b[0m\u001b[0;34m:\u001b[0m\u001b[0;34m\u001b[0m\u001b[0m\n\u001b[1;32m    845\u001b[0m                     \u001b[0mouts\u001b[0m \u001b[0;34m=\u001b[0m \u001b[0;34m[\u001b[0m\u001b[0mouts\u001b[0m\u001b[0;34m]\u001b[0m\u001b[0;34m\u001b[0m\u001b[0m\n",
      "\u001b[0;32m/opt/conda/envs/altair/lib/python3.5/site-packages/keras/backend/tensorflow_backend.py\u001b[0m in \u001b[0;36m__call__\u001b[0;34m(self, inputs)\u001b[0m\n\u001b[1;32m   1601\u001b[0m         \u001b[0msession\u001b[0m \u001b[0;34m=\u001b[0m \u001b[0mget_session\u001b[0m\u001b[0;34m(\u001b[0m\u001b[0;34m)\u001b[0m\u001b[0;34m\u001b[0m\u001b[0m\n\u001b[1;32m   1602\u001b[0m         updated = session.run(self.outputs + [self.updates_op],\n\u001b[0;32m-> 1603\u001b[0;31m                               feed_dict=feed_dict)\n\u001b[0m\u001b[1;32m   1604\u001b[0m         \u001b[0;32mreturn\u001b[0m \u001b[0mupdated\u001b[0m\u001b[0;34m[\u001b[0m\u001b[0;34m:\u001b[0m\u001b[0mlen\u001b[0m\u001b[0;34m(\u001b[0m\u001b[0mself\u001b[0m\u001b[0;34m.\u001b[0m\u001b[0moutputs\u001b[0m\u001b[0;34m)\u001b[0m\u001b[0;34m]\u001b[0m\u001b[0;34m\u001b[0m\u001b[0m\n\u001b[1;32m   1605\u001b[0m \u001b[0;34m\u001b[0m\u001b[0m\n",
      "\u001b[0;32m/opt/conda/envs/altair/lib/python3.5/site-packages/tensorflow/python/client/session.py\u001b[0m in \u001b[0;36mrun\u001b[0;34m(self, fetches, feed_dict, options, run_metadata)\u001b[0m\n\u001b[1;32m    715\u001b[0m     \u001b[0;32mtry\u001b[0m\u001b[0;34m:\u001b[0m\u001b[0;34m\u001b[0m\u001b[0m\n\u001b[1;32m    716\u001b[0m       result = self._run(None, fetches, feed_dict, options_ptr,\n\u001b[0;32m--> 717\u001b[0;31m                          run_metadata_ptr)\n\u001b[0m\u001b[1;32m    718\u001b[0m       \u001b[0;32mif\u001b[0m \u001b[0mrun_metadata\u001b[0m\u001b[0;34m:\u001b[0m\u001b[0;34m\u001b[0m\u001b[0m\n\u001b[1;32m    719\u001b[0m         \u001b[0mproto_data\u001b[0m \u001b[0;34m=\u001b[0m \u001b[0mtf_session\u001b[0m\u001b[0;34m.\u001b[0m\u001b[0mTF_GetBuffer\u001b[0m\u001b[0;34m(\u001b[0m\u001b[0mrun_metadata_ptr\u001b[0m\u001b[0;34m)\u001b[0m\u001b[0;34m\u001b[0m\u001b[0m\n",
      "\u001b[0;32m/opt/conda/envs/altair/lib/python3.5/site-packages/tensorflow/python/client/session.py\u001b[0m in \u001b[0;36m_run\u001b[0;34m(self, handle, fetches, feed_dict, options, run_metadata)\u001b[0m\n\u001b[1;32m    913\u001b[0m     \u001b[0;32mif\u001b[0m \u001b[0mfinal_fetches\u001b[0m \u001b[0;32mor\u001b[0m \u001b[0mfinal_targets\u001b[0m\u001b[0;34m:\u001b[0m\u001b[0;34m\u001b[0m\u001b[0m\n\u001b[1;32m    914\u001b[0m       results = self._do_run(handle, final_targets, final_fetches,\n\u001b[0;32m--> 915\u001b[0;31m                              feed_dict_string, options, run_metadata)\n\u001b[0m\u001b[1;32m    916\u001b[0m     \u001b[0;32melse\u001b[0m\u001b[0;34m:\u001b[0m\u001b[0;34m\u001b[0m\u001b[0m\n\u001b[1;32m    917\u001b[0m       \u001b[0mresults\u001b[0m \u001b[0;34m=\u001b[0m \u001b[0;34m[\u001b[0m\u001b[0;34m]\u001b[0m\u001b[0;34m\u001b[0m\u001b[0m\n",
      "\u001b[0;32m/opt/conda/envs/altair/lib/python3.5/site-packages/tensorflow/python/client/session.py\u001b[0m in \u001b[0;36m_do_run\u001b[0;34m(self, handle, target_list, fetch_list, feed_dict, options, run_metadata)\u001b[0m\n\u001b[1;32m    963\u001b[0m     \u001b[0;32mif\u001b[0m \u001b[0mhandle\u001b[0m \u001b[0;32mis\u001b[0m \u001b[0;32mNone\u001b[0m\u001b[0;34m:\u001b[0m\u001b[0;34m\u001b[0m\u001b[0m\n\u001b[1;32m    964\u001b[0m       return self._do_call(_run_fn, self._session, feed_dict, fetch_list,\n\u001b[0;32m--> 965\u001b[0;31m                            target_list, options, run_metadata)\n\u001b[0m\u001b[1;32m    966\u001b[0m     \u001b[0;32melse\u001b[0m\u001b[0;34m:\u001b[0m\u001b[0;34m\u001b[0m\u001b[0m\n\u001b[1;32m    967\u001b[0m       return self._do_call(_prun_fn, self._session, handle, feed_dict,\n",
      "\u001b[0;32m/opt/conda/envs/altair/lib/python3.5/site-packages/tensorflow/python/client/session.py\u001b[0m in \u001b[0;36m_do_call\u001b[0;34m(self, fn, *args)\u001b[0m\n\u001b[1;32m    970\u001b[0m   \u001b[0;32mdef\u001b[0m \u001b[0m_do_call\u001b[0m\u001b[0;34m(\u001b[0m\u001b[0mself\u001b[0m\u001b[0;34m,\u001b[0m \u001b[0mfn\u001b[0m\u001b[0;34m,\u001b[0m \u001b[0;34m*\u001b[0m\u001b[0margs\u001b[0m\u001b[0;34m)\u001b[0m\u001b[0;34m:\u001b[0m\u001b[0;34m\u001b[0m\u001b[0m\n\u001b[1;32m    971\u001b[0m     \u001b[0;32mtry\u001b[0m\u001b[0;34m:\u001b[0m\u001b[0;34m\u001b[0m\u001b[0m\n\u001b[0;32m--> 972\u001b[0;31m       \u001b[0;32mreturn\u001b[0m \u001b[0mfn\u001b[0m\u001b[0;34m(\u001b[0m\u001b[0;34m*\u001b[0m\u001b[0margs\u001b[0m\u001b[0;34m)\u001b[0m\u001b[0;34m\u001b[0m\u001b[0m\n\u001b[0m\u001b[1;32m    973\u001b[0m     \u001b[0;32mexcept\u001b[0m \u001b[0merrors\u001b[0m\u001b[0;34m.\u001b[0m\u001b[0mOpError\u001b[0m \u001b[0;32mas\u001b[0m \u001b[0me\u001b[0m\u001b[0;34m:\u001b[0m\u001b[0;34m\u001b[0m\u001b[0m\n\u001b[1;32m    974\u001b[0m       \u001b[0mmessage\u001b[0m \u001b[0;34m=\u001b[0m \u001b[0mcompat\u001b[0m\u001b[0;34m.\u001b[0m\u001b[0mas_text\u001b[0m\u001b[0;34m(\u001b[0m\u001b[0me\u001b[0m\u001b[0;34m.\u001b[0m\u001b[0mmessage\u001b[0m\u001b[0;34m)\u001b[0m\u001b[0;34m\u001b[0m\u001b[0m\n",
      "\u001b[0;32m/opt/conda/envs/altair/lib/python3.5/site-packages/tensorflow/python/client/session.py\u001b[0m in \u001b[0;36m_run_fn\u001b[0;34m(session, feed_dict, fetch_list, target_list, options, run_metadata)\u001b[0m\n\u001b[1;32m    952\u001b[0m         return tf_session.TF_Run(session, options,\n\u001b[1;32m    953\u001b[0m                                  \u001b[0mfeed_dict\u001b[0m\u001b[0;34m,\u001b[0m \u001b[0mfetch_list\u001b[0m\u001b[0;34m,\u001b[0m \u001b[0mtarget_list\u001b[0m\u001b[0;34m,\u001b[0m\u001b[0;34m\u001b[0m\u001b[0m\n\u001b[0;32m--> 954\u001b[0;31m                                  status, run_metadata)\n\u001b[0m\u001b[1;32m    955\u001b[0m \u001b[0;34m\u001b[0m\u001b[0m\n\u001b[1;32m    956\u001b[0m     \u001b[0;32mdef\u001b[0m \u001b[0m_prun_fn\u001b[0m\u001b[0;34m(\u001b[0m\u001b[0msession\u001b[0m\u001b[0;34m,\u001b[0m \u001b[0mhandle\u001b[0m\u001b[0;34m,\u001b[0m \u001b[0mfeed_dict\u001b[0m\u001b[0;34m,\u001b[0m \u001b[0mfetch_list\u001b[0m\u001b[0;34m)\u001b[0m\u001b[0;34m:\u001b[0m\u001b[0;34m\u001b[0m\u001b[0m\n",
      "\u001b[0;31mKeyboardInterrupt\u001b[0m: "
     ]
    }
   ],
   "source": [
    "while True:\n",
    "    if cur_epoch >= num_epochs:\n",
    "        break\n",
    "    model.fit(X, X, batch_size=len(X), nb_epoch=1, verbose=2, shuffle=False)\n",
    "    print(\"Current epoch: %s\" % cur_epoch)\n",
    "    cur_epoch += 1\n",
    "    if cur_epoch % 100 == 0:\n",
    "        print(decode_documents(one_hot_conversion(model.predict(X))))"
   ]
  },
  {
   "cell_type": "code",
   "execution_count": null,
   "metadata": {
    "collapsed": false
   },
   "outputs": [],
   "source": [
    "# summarize performance of the model\n",
    "scores = model.evaluate(X, X, verbose=0)\n",
    "print(\"Model Accuracy: %.2f%%\" % (scores[1]*100))"
   ]
  },
  {
   "cell_type": "code",
   "execution_count": null,
   "metadata": {
    "collapsed": false
   },
   "outputs": [],
   "source": [
    "decode_documents(one_hot_conversion(model.predict(X)))"
   ]
  },
  {
   "cell_type": "code",
   "execution_count": null,
   "metadata": {
    "collapsed": true
   },
   "outputs": [],
   "source": []
  }
 ],
 "metadata": {
  "kernelspec": {
   "display_name": "Altair",
   "language": "python",
   "name": "altair"
  },
  "language_info": {
   "codemirror_mode": {
    "name": "ipython",
    "version": 3
   },
   "file_extension": ".py",
   "mimetype": "text/x-python",
   "name": "python",
   "nbconvert_exporter": "python",
   "pygments_lexer": "ipython3",
   "version": "3.5.2"
  }
 },
 "nbformat": 4,
 "nbformat_minor": 2
}

{
 "cells": [
  {
   "cell_type": "code",
   "execution_count": 1,
   "metadata": {
    "collapsed": true
   },
   "outputs": [],
   "source": [
    "import os\n",
    "os.environ['THEANO_FLAGS'] = 'floatX=float32,device=gpu'\n",
    "##os.environ['THEANO_FLAGS'] = 'floatX=float32,device=gpu,optimizer=fast_compile'\n",
    "os.environ[\"PATH\"] += os.pathsep + \"/usr/local/cuda/bin/\"\n",
    "\n",
    "#del os.environ[\"THEANO_FLAGS\"]"
   ]
  },
  {
   "cell_type": "code",
   "execution_count": 2,
   "metadata": {
    "collapsed": false
   },
   "outputs": [
    {
     "name": "stderr",
     "output_type": "stream",
     "text": [
      "Using gpu device 0: GeForce GTX TITAN X (CNMeM is disabled, cuDNN 5110)\n",
      "/opt/conda/envs/altair/lib/python3.5/site-packages/theano/sandbox/cuda/__init__.py:600: UserWarning: Your cuDNN version is more recent than the one Theano officially supports. If you see any problems, try updating Theano or downgrading cuDNN to version 5.\n",
      "  warnings.warn(warn)\n",
      "Using Theano backend.\n"
     ]
    }
   ],
   "source": [
    "#import tensorflow as tf\n",
    "from theano import tensor as T\n",
    "import numpy as np\n",
    "from keras.callbacks import EarlyStopping, ReduceLROnPlateau, ModelCheckpoint\n",
    "from keras.models import Sequential\n",
    "from keras.layers import Dense, RepeatVector\n",
    "from keras.layers import LSTM, GRU, Input, Merge, Reshape, Activation, Lambda\n",
    "from keras.optimizers import Adam\n",
    "from keras.utils import np_utils\n",
    "from keras.preprocessing.sequence import pad_sequences\n",
    "from keras.models import Model\n",
    "\n",
    "# fix random seed for reproducibility\n",
    "np.random.seed(7)"
   ]
  },
  {
   "cell_type": "code",
   "execution_count": 3,
   "metadata": {
    "collapsed": true
   },
   "outputs": [],
   "source": [
    "# UNK token will be second to last dimension\n",
    "# EOS token will always be the last dimension\n",
    "# If desired_length is not specified, desired_length will be len(document)\n",
    "# If len(document) < desired_length, add an EOS token an pad with zero vectors to reach desired_length\n",
    "# If len(document) > desired_length, truncate to desired_length\n",
    "def encode_document(document, desired_length=-1, min_unicode_idx=0, max_unicode_idx=128):\n",
    "    UNK_IDX = max_unicode_idx\n",
    "    EOS_IDX = max_unicode_idx + 1\n",
    "    if desired_length == -1:\n",
    "        desired_length = len(document)\n",
    "    encoded = np.zeros((desired_length, max_unicode_idx-min_unicode_idx+2)) # +2 for UNK and EOS tokens\n",
    "    for doc_idx, char in enumerate(document[:desired_length]):\n",
    "        char_encoding = ord(char)\n",
    "        if not min_unicode_idx <= char_encoding < max_unicode_idx:\n",
    "            char_encoding = UNK_IDX\n",
    "        encoded[doc_idx, char_encoding-min_unicode_idx] = 1\n",
    "    if len(document) < desired_length:\n",
    "        encoded[len(document[:desired_length]):, EOS_IDX-min_unicode_idx] = 1\n",
    "    #encoded[len(document[:desired_length]), EOS_IDX-min_unicode_idx] = 1\n",
    "    return encoded.reshape(encoded.shape[0], 1, encoded.shape[1])\n",
    "\n",
    "# By default, desired_length will be the length of the longest document in documents.\n",
    "def encode_documents(documents, desired_length=-1, min_unicode_idx=0, max_unicode_idx=128):\n",
    "    if desired_length == -1:\n",
    "        desired_length = max([len(document) for document in documents])\n",
    "    encodeds = []\n",
    "    for document in documents:\n",
    "        encodeds.append(encode_document(document, desired_length, min_unicode_idx, max_unicode_idx))\n",
    "    e = np.array(encodeds)\n",
    "    return e\n",
    "\n",
    "# encoded must be one-hot, encoded via encode_document()\n",
    "def decode_document(encoded, min_unicode_idx=0, max_unicode_idx=128, unk_decode_idx=32):\n",
    "    UNK_IDX = max_unicode_idx\n",
    "    EOS_IDX = max_unicode_idx + 1\n",
    "    decoded = \"\"\n",
    "    for idx in np.nonzero(encoded)[1]:\n",
    "        candidate = idx + min_unicode_idx\n",
    "        if candidate == UNK_IDX:\n",
    "            candidate = unk_decode_idx\n",
    "        elif candidate == EOS_IDX:\n",
    "            continue\n",
    "        decoded += chr(candidate)\n",
    "    return decoded\n",
    "\n",
    "def decode_documents(encodeds, min_unicode_idx=0, max_unicode_idx=128):\n",
    "    decodeds = []\n",
    "    for encoded in encodeds:\n",
    "        decodeds.append(decode_document(encoded, min_unicode_idx, max_unicode_idx))\n",
    "    return decodeds"
   ]
  },
  {
   "cell_type": "code",
   "execution_count": 4,
   "metadata": {
    "collapsed": true
   },
   "outputs": [],
   "source": [
    "def one_hot_conversion(predictions):\n",
    "    converted = np.zeros(predictions.shape)\n",
    "    for prediction_idx, prediction in enumerate(predictions):\n",
    "        for elem_idx, elem in enumerate(prediction):\n",
    "            converted[prediction_idx, elem_idx, np.argmax(elem)] = 1\n",
    "    return converted"
   ]
  },
  {
   "cell_type": "code",
   "execution_count": 5,
   "metadata": {
    "collapsed": false
   },
   "outputs": [],
   "source": [
    "from redbaron import RedBaron\n",
    "\n",
    "with open(\"sample.py\", \"r\") as f:\n",
    "    source = f.read()\n",
    "with open(\"sample.py\", \"r\") as f:\n",
    "    lines = f.readlines()\n",
    "\n",
    "red = RedBaron(source)\n",
    "data = []\n",
    "for fn_node in red.findAll(\"DefNode\"):\n",
    "    starting_line = fn_node.absolute_bounding_box.top_left.to_tuple()[0]\n",
    "    ending_line = fn_node.absolute_bounding_box.bottom_right.to_tuple()[0]\n",
    "    fn_lines = lines[starting_line-1:ending_line-1]\n",
    "    data.append(\"\".join(fn_lines).rstrip())"
   ]
  },
  {
   "cell_type": "code",
   "execution_count": 6,
   "metadata": {
    "collapsed": true
   },
   "outputs": [],
   "source": [
    "#raw = [\"This is a test.\", \"This is a test2\", \"This is a test3\"]"
   ]
  },
  {
   "cell_type": "code",
   "execution_count": 7,
   "metadata": {
    "collapsed": false
   },
   "outputs": [
    {
     "name": "stdout",
     "output_type": "stream",
     "text": [
      "[\"    def __init__(self, options, selectedoptions=None):\\n        QDialog.__init__(self)\\n        self.setupUi(self)\\n\\n        self.options = options\\n        self.selectedoptions = selectedoptions\\n\\n        # Additional buttons\\n        self.btnSelectAll = QPushButton(self.tr('Select all'))\\n        self.buttonBox.addButton(self.btnSelectAll,\\n                                 QDialogButtonBox.ActionRole)\\n        self.btnClearSelection = QPushButton(self.tr('Clear selection'))\\n        self.buttonBox.addButton(self.btnClearSelection,\\n                                 QDialogButtonBox.ActionRole)\\n        self.btnToggleSelection = QPushButton(self.tr('Toggle selection'))\\n        self.buttonBox.addButton(self.btnToggleSelection,\\n                                 QDialogButtonBox.ActionRole)\\n\\n        self.btnSelectAll.clicked.connect(self.selectAll)\\n        self.btnClearSelection.clicked.connect(self.lstLayers.clearSelection)\\n        self.btnToggleSelection.clicked.connect(self.toggleSelection)\\n\\n        self.populateList()\", '    def populateList(self):\\n        self.lstLayers.clear()\\n        self.lstLayers.addItems(self.options)\\n        selModel = self.lstLayers.selectionModel()\\n        self.lstLayers.blockSignals(True)\\n        for i in xrange(self.lstLayers.count()):\\n            item = self.lstLayers.item(i)\\n            if self.lstLayers.indexFromItem(item).row() in self.selectedoptions:\\n                selModel.select(self.lstLayers.indexFromItem(item),\\n                                QItemSelectionModel.Select)\\n        self.lstLayers.blockSignals(False)', '    def accept(self):\\n        self.selectedoptions = []\\n        for i in self.lstLayers.selectedItems():\\n            self.selectedoptions.append(self.lstLayers.indexFromItem(i).row())\\n        QDialog.accept(self)', '    def reject(self):\\n        self.selectedoptions = None\\n        QDialog.reject(self)', '    def selectAll(self):\\n        selModel = self.lstLayers.selectionModel()\\n        self.lstLayers.blockSignals(True)\\n        for i in xrange(self.lstLayers.count()):\\n            item = self.lstLayers.item(i)\\n            selModel.select(self.lstLayers.indexFromItem(item),\\n                            QItemSelectionModel.Select)\\n        self.lstLayers.blockSignals(False)', '    def toggleSelection(self):\\n        selModel = self.lstLayers.selectionModel()\\n        self.lstLayers.blockSignals(True)\\n        for i in xrange(self.lstLayers.count()):\\n            item = self.lstLayers.item(i)\\n            selModel.select(self.lstLayers.indexFromItem(item),\\n                            QItemSelectionModel.Toggle)\\n        self.lstLayers.blockSignals(False)']\n"
     ]
    }
   ],
   "source": [
    "raw = data\n",
    "print(raw)"
   ]
  },
  {
   "cell_type": "code",
   "execution_count": 8,
   "metadata": {
    "collapsed": true
   },
   "outputs": [],
   "source": [
    "dimIn = 130\n",
    "dim = 260\n",
    "num_epochs = 5000"
   ]
  },
  {
   "cell_type": "code",
   "execution_count": 9,
   "metadata": {
    "collapsed": false
   },
   "outputs": [],
   "source": [
    "e = encode_documents(raw)\n",
    "X = e.reshape(e.shape[0], e.shape[1], e.shape[3])"
   ]
  },
  {
   "cell_type": "code",
   "execution_count": 10,
   "metadata": {
    "collapsed": false
   },
   "outputs": [
    {
     "data": {
      "text/plain": [
       "(6, 1021, 130)"
      ]
     },
     "execution_count": 10,
     "metadata": {},
     "output_type": "execute_result"
    }
   ],
   "source": [
    "X.shape"
   ]
  },
  {
   "cell_type": "code",
   "execution_count": 11,
   "metadata": {
    "collapsed": false
   },
   "outputs": [],
   "source": [
    "# create and fit the model\n",
    "x0 = Input(shape=X[0].shape)\n",
    "#print(x0.get_shape())"
   ]
  },
  {
   "cell_type": "code",
   "execution_count": 12,
   "metadata": {
    "collapsed": true
   },
   "outputs": [],
   "source": [
    "def fork_and_gru(input_layer, activation='relu', return_sequences=False):\n",
    "    fork = Dense(dim, activation='linear')(input_layer)\n",
    "    gru = GRU(dim, activation=activation, return_sequences=return_sequences)(fork)\n",
    "    return fork, gru"
   ]
  },
  {
   "cell_type": "code",
   "execution_count": 13,
   "metadata": {
    "collapsed": false
   },
   "outputs": [],
   "source": [
    "fork1, gru1 = fork_and_gru(x0, return_sequences=True)\n",
    "fork2, gru2 = fork_and_gru(gru1, return_sequences=True)\n",
    "fork3, gru3 = fork_and_gru(gru2, return_sequences=False)\n",
    "\n",
    "#fork3, gru3 = fork_and_gru(x0, return_sequences=False)"
   ]
  },
  {
   "cell_type": "code",
   "execution_count": 14,
   "metadata": {
    "collapsed": false
   },
   "outputs": [],
   "source": [
    "x3 = Dense(dimIn, activation='linear')(gru3)\n",
    "#print(x3.get_shape())"
   ]
  },
  {
   "cell_type": "code",
   "execution_count": 15,
   "metadata": {
    "collapsed": false
   },
   "outputs": [],
   "source": [
    "x3b = Reshape((1, dimIn))(x3)\n",
    "#print(x3b.get_shape())"
   ]
  },
  {
   "cell_type": "code",
   "execution_count": 16,
   "metadata": {
    "collapsed": false
   },
   "outputs": [],
   "source": [
    "def shift_by_one(t1, t2):\n",
    "    t3 = T.concatenate([t1, t2], axis=1) #tf.concat(values=[t1, t2], concat_dim=1)\n",
    "    return t3[:, :-1, :]\n",
    "x4 = Lambda(shift_by_one, output_shape=(X[0].shape), arguments={\"t2\": x0})(x3b)\n",
    "#print(x4.get_shape())"
   ]
  },
  {
   "cell_type": "code",
   "execution_count": 17,
   "metadata": {
    "collapsed": false
   },
   "outputs": [],
   "source": [
    "x5 = Dense(dimIn, activation='linear')(x4)\n",
    "#print(x5.get_shape())"
   ]
  },
  {
   "cell_type": "code",
   "execution_count": 18,
   "metadata": {
    "collapsed": false
   },
   "outputs": [],
   "source": [
    "x6 = GRU(dimIn, activation='relu', return_sequences=True)(x5)\n",
    "#print(x6.get_shape())"
   ]
  },
  {
   "cell_type": "code",
   "execution_count": 19,
   "metadata": {
    "collapsed": false
   },
   "outputs": [],
   "source": [
    "x7 = Activation(\"softmax\")(x6)\n",
    "#print(x7.get_shape())"
   ]
  },
  {
   "cell_type": "code",
   "execution_count": 20,
   "metadata": {
    "collapsed": true
   },
   "outputs": [],
   "source": [
    "model = Model(input=x0, output=x7)"
   ]
  },
  {
   "cell_type": "code",
   "execution_count": 21,
   "metadata": {
    "collapsed": true
   },
   "outputs": [],
   "source": [
    "opt = Adam(clipnorm=5)\n",
    "model.compile(loss='categorical_crossentropy', optimizer=opt, metrics=['categorical_accuracy'])"
   ]
  },
  {
   "cell_type": "code",
   "execution_count": 27,
   "metadata": {
    "collapsed": true
   },
   "outputs": [],
   "source": [
    "reduce_lr = ReduceLROnPlateau(monitor='loss', factor=0.2, patience=5, min_lr=0.00001)"
   ]
  },
  {
   "cell_type": "code",
   "execution_count": 28,
   "metadata": {
    "collapsed": true
   },
   "outputs": [],
   "source": [
    "early_stopping = EarlyStopping(monitor=\"loss\", patience=2)"
   ]
  },
  {
   "cell_type": "code",
   "execution_count": 36,
   "metadata": {
    "collapsed": false
   },
   "outputs": [],
   "source": [
    "model_checkpoint = ModelCheckpoint(monitor=\"loss\", filepath=\"weights.{epoch:02d}-{loss:.2f}.hdf5\", save_best_only=True, save_weights_only=True)"
   ]
  },
  {
   "cell_type": "code",
   "execution_count": 37,
   "metadata": {
    "collapsed": true
   },
   "outputs": [],
   "source": [
    "cur_epoch = 0"
   ]
  },
  {
   "cell_type": "code",
   "execution_count": null,
   "metadata": {
    "collapsed": false,
    "scrolled": true
   },
   "outputs": [
    {
     "name": "stdout",
     "output_type": "stream",
     "text": [
      "Epoch 1/1\n",
      "2s - loss: 4.7328 - categorical_accuracy: 0.0942\n",
      "Current epoch: 0\n",
      "Epoch 1/1\n",
      "2s - loss: 4.6846 - categorical_accuracy: 0.6618\n",
      "Current epoch: 1\n",
      "Epoch 1/1\n",
      "2s - loss: 4.6362 - categorical_accuracy: 0.6688\n",
      "Current epoch: 2\n",
      "Epoch 1/1\n",
      "2s - loss: 4.5943 - categorical_accuracy: 0.6699\n",
      "Current epoch: 3\n",
      "Epoch 1/1\n",
      "2s - loss: 4.5490 - categorical_accuracy: 0.6704\n",
      "Current epoch: 4\n",
      "Epoch 1/1\n",
      "2s - loss: 4.4987 - categorical_accuracy: 0.6727\n",
      "Current epoch: 5\n",
      "Epoch 1/1\n",
      "2s - loss: 4.4502 - categorical_accuracy: 0.6688\n",
      "Current epoch: 6\n",
      "Epoch 1/1\n",
      "2s - loss: 4.3930 - categorical_accuracy: 0.6690\n",
      "Current epoch: 7\n",
      "Epoch 1/1\n",
      "2s - loss: 4.3348 - categorical_accuracy: 0.6690\n",
      "Current epoch: 8\n",
      "Epoch 1/1\n",
      "2s - loss: 4.2674 - categorical_accuracy: 0.6701\n",
      "Current epoch: 9\n",
      "Epoch 1/1\n",
      "2s - loss: 4.1878 - categorical_accuracy: 0.6717\n",
      "Current epoch: 10\n",
      "Epoch 1/1\n",
      "2s - loss: 4.0929 - categorical_accuracy: 0.6694\n",
      "Current epoch: 11\n",
      "Epoch 1/1\n",
      "2s - loss: 3.9755 - categorical_accuracy: 0.6698\n",
      "Current epoch: 12\n",
      "Epoch 1/1\n",
      "2s - loss: 3.8211 - categorical_accuracy: 0.6647\n",
      "Current epoch: 13\n",
      "Epoch 1/1\n",
      "2s - loss: 3.5810 - categorical_accuracy: 0.6639\n",
      "Current epoch: 14\n",
      "Epoch 1/1\n",
      "2s - loss: 2.5937 - categorical_accuracy: 0.6577\n",
      "Current epoch: 15\n",
      "Epoch 1/1\n",
      "2s - loss: 1.9951 - categorical_accuracy: 0.6125\n",
      "Current epoch: 16\n",
      "Epoch 1/1\n",
      "2s - loss: 2.0529 - categorical_accuracy: 0.6660\n",
      "Current epoch: 17\n",
      "Epoch 1/1\n",
      "2s - loss: 1.9835 - categorical_accuracy: 0.6652\n",
      "Current epoch: 18\n",
      "Epoch 1/1\n",
      "2s - loss: 1.9393 - categorical_accuracy: 0.6645\n",
      "Current epoch: 19\n",
      "Epoch 1/1\n",
      "2s - loss: 1.9131 - categorical_accuracy: 0.6639\n",
      "Current epoch: 20\n",
      "Epoch 1/1\n",
      "2s - loss: 1.8843 - categorical_accuracy: 0.6598\n",
      "Current epoch: 21\n",
      "Epoch 1/1\n",
      "2s - loss: 3.8147 - categorical_accuracy: 0.6015\n",
      "Current epoch: 22\n",
      "Epoch 1/1\n",
      "2s - loss: 4.2262 - categorical_accuracy: 0.5968\n",
      "Current epoch: 23\n",
      "Epoch 1/1\n",
      "2s - loss: 3.7536 - categorical_accuracy: 0.6015\n",
      "Current epoch: 24\n",
      "Epoch 1/1\n",
      "2s - loss: 3.5602 - categorical_accuracy: 0.5911\n",
      "Current epoch: 25\n",
      "Epoch 1/1\n",
      "2s - loss: 3.4338 - categorical_accuracy: 0.5854\n",
      "Current epoch: 26\n",
      "Epoch 1/1\n",
      "2s - loss: 2.8520 - categorical_accuracy: 0.5844\n",
      "Current epoch: 27\n",
      "Epoch 1/1\n",
      "2s - loss: 2.3297 - categorical_accuracy: 0.6035\n",
      "Current epoch: 28\n",
      "Epoch 1/1\n",
      "2s - loss: 1.9592 - categorical_accuracy: 0.6603\n",
      "Current epoch: 29\n",
      "Epoch 1/1\n",
      "2s - loss: 1.8266 - categorical_accuracy: 0.6742\n",
      "Current epoch: 30\n",
      "Epoch 1/1\n",
      "2s - loss: 1.6901 - categorical_accuracy: 0.6766\n",
      "Current epoch: 31\n",
      "Epoch 1/1\n",
      "2s - loss: 1.6805 - categorical_accuracy: 0.6755\n",
      "Current epoch: 32\n",
      "Epoch 1/1\n",
      "2s - loss: 1.7359 - categorical_accuracy: 0.6738\n",
      "Current epoch: 33\n",
      "Epoch 1/1\n",
      "2s - loss: 1.7036 - categorical_accuracy: 0.6745\n",
      "Current epoch: 34\n",
      "Epoch 1/1\n",
      "2s - loss: 1.6349 - categorical_accuracy: 0.6768\n",
      "Current epoch: 35\n",
      "Epoch 1/1\n",
      "2s - loss: 1.5967 - categorical_accuracy: 0.6768\n",
      "Current epoch: 36\n",
      "Epoch 1/1\n",
      "2s - loss: 1.5739 - categorical_accuracy: 0.6768\n",
      "Current epoch: 37\n",
      "Epoch 1/1\n",
      "2s - loss: 1.5533 - categorical_accuracy: 0.6768\n",
      "Current epoch: 38\n",
      "Epoch 1/1\n",
      "2s - loss: 1.5381 - categorical_accuracy: 0.6768\n",
      "Current epoch: 39\n",
      "Epoch 1/1\n",
      "2s - loss: 1.5210 - categorical_accuracy: 0.6768\n",
      "Current epoch: 40\n",
      "Epoch 1/1\n",
      "2s - loss: 1.5014 - categorical_accuracy: 0.6768\n",
      "Current epoch: 41\n",
      "Epoch 1/1\n",
      "2s - loss: 1.4868 - categorical_accuracy: 0.6768\n",
      "Current epoch: 42\n",
      "Epoch 1/1\n",
      "2s - loss: 1.4638 - categorical_accuracy: 0.6768\n",
      "Current epoch: 43\n",
      "Epoch 1/1\n",
      "2s - loss: 1.4352 - categorical_accuracy: 0.6770\n",
      "Current epoch: 44\n",
      "Epoch 1/1\n",
      "2s - loss: 1.4137 - categorical_accuracy: 0.6776\n",
      "Current epoch: 45\n",
      "Epoch 1/1\n",
      "2s - loss: 1.3946 - categorical_accuracy: 0.6771\n",
      "Current epoch: 46\n",
      "Epoch 1/1\n",
      "2s - loss: 1.3762 - categorical_accuracy: 0.6768\n",
      "Current epoch: 47\n",
      "Epoch 1/1\n",
      "2s - loss: 1.3599 - categorical_accuracy: 0.6768\n",
      "Current epoch: 48\n",
      "Epoch 1/1\n",
      "2s - loss: 1.3450 - categorical_accuracy: 0.6805\n",
      "Current epoch: 49\n",
      "Epoch 1/1\n",
      "2s - loss: 1.3314 - categorical_accuracy: 0.6853\n",
      "Current epoch: 50\n",
      "Epoch 1/1\n",
      "2s - loss: 1.3184 - categorical_accuracy: 0.6947\n",
      "Current epoch: 51\n",
      "Epoch 1/1\n",
      "2s - loss: 1.3064 - categorical_accuracy: 0.6990\n",
      "Current epoch: 52\n",
      "Epoch 1/1\n",
      "2s - loss: 1.2937 - categorical_accuracy: 0.7032\n",
      "Current epoch: 53\n",
      "Epoch 1/1\n",
      "2s - loss: 1.2769 - categorical_accuracy: 0.7032\n",
      "Current epoch: 54\n",
      "Epoch 1/1\n",
      "2s - loss: 1.2651 - categorical_accuracy: 0.7040\n",
      "Current epoch: 55\n",
      "Epoch 1/1\n",
      "2s - loss: 1.2542 - categorical_accuracy: 0.7047\n",
      "Current epoch: 56\n",
      "Epoch 1/1\n",
      "2s - loss: 1.2438 - categorical_accuracy: 0.7042\n",
      "Current epoch: 57\n",
      "Epoch 1/1\n",
      "2s - loss: 1.2402 - categorical_accuracy: 0.7047\n",
      "Current epoch: 58\n",
      "Epoch 1/1\n",
      "2s - loss: 1.2332 - categorical_accuracy: 0.7057\n",
      "Current epoch: 59\n",
      "Epoch 1/1\n",
      "2s - loss: 1.2265 - categorical_accuracy: 0.7058\n",
      "Current epoch: 60\n",
      "Epoch 1/1\n",
      "2s - loss: 1.2212 - categorical_accuracy: 0.7094\n",
      "Current epoch: 61\n",
      "Epoch 1/1\n",
      "2s - loss: 1.2160 - categorical_accuracy: 0.7094\n",
      "Current epoch: 62\n",
      "Epoch 1/1\n",
      "2s - loss: 1.2118 - categorical_accuracy: 0.7125\n",
      "Current epoch: 63\n",
      "Epoch 1/1\n",
      "2s - loss: 1.2060 - categorical_accuracy: 0.7119\n",
      "Current epoch: 64\n",
      "Epoch 1/1\n",
      "2s - loss: 1.1998 - categorical_accuracy: 0.7122\n",
      "Current epoch: 65\n",
      "Epoch 1/1\n",
      "2s - loss: 1.1927 - categorical_accuracy: 0.7132\n",
      "Current epoch: 66\n",
      "Epoch 1/1\n",
      "2s - loss: 1.1867 - categorical_accuracy: 0.7104\n",
      "Current epoch: 67\n",
      "Epoch 1/1\n",
      "2s - loss: 1.1829 - categorical_accuracy: 0.7153\n",
      "Current epoch: 68\n",
      "Epoch 1/1\n",
      "2s - loss: 1.1788 - categorical_accuracy: 0.7125\n",
      "Current epoch: 69\n",
      "Epoch 1/1\n",
      "2s - loss: 1.1705 - categorical_accuracy: 0.7238\n",
      "Current epoch: 70\n",
      "Epoch 1/1\n",
      "2s - loss: 1.1663 - categorical_accuracy: 0.7173\n",
      "Current epoch: 71\n",
      "Epoch 1/1\n",
      "2s - loss: 1.1608 - categorical_accuracy: 0.7246\n",
      "Current epoch: 72\n",
      "Epoch 1/1\n",
      "2s - loss: 1.1562 - categorical_accuracy: 0.7178\n",
      "Current epoch: 73\n",
      "Epoch 1/1\n",
      "2s - loss: 1.1531 - categorical_accuracy: 0.7259\n",
      "Current epoch: 74\n",
      "Epoch 1/1\n",
      "2s - loss: 1.1477 - categorical_accuracy: 0.7196\n",
      "Current epoch: 75\n",
      "Epoch 1/1\n",
      "2s - loss: 1.1458 - categorical_accuracy: 0.7365\n",
      "Current epoch: 76\n",
      "Epoch 1/1\n",
      "2s - loss: 1.1452 - categorical_accuracy: 0.7151\n",
      "Current epoch: 77\n",
      "Epoch 1/1\n",
      "2s - loss: 1.1480 - categorical_accuracy: 0.7325\n",
      "Current epoch: 78\n",
      "Epoch 1/1\n",
      "2s - loss: 1.1319 - categorical_accuracy: 0.7290\n",
      "Current epoch: 79\n",
      "Epoch 1/1\n",
      "2s - loss: 1.1378 - categorical_accuracy: 0.7135\n",
      "Current epoch: 80\n",
      "Epoch 1/1\n",
      "2s - loss: 1.1260 - categorical_accuracy: 0.7261\n",
      "Current epoch: 81\n",
      "Epoch 1/1\n",
      "2s - loss: 1.1276 - categorical_accuracy: 0.7354\n",
      "Current epoch: 82\n",
      "Epoch 1/1\n",
      "2s - loss: 1.1216 - categorical_accuracy: 0.7365\n",
      "Current epoch: 83\n",
      "Epoch 1/1\n",
      "2s - loss: 1.1150 - categorical_accuracy: 0.7251\n",
      "Current epoch: 84\n",
      "Epoch 1/1\n",
      "2s - loss: 1.1152 - categorical_accuracy: 0.7225\n",
      "Current epoch: 85\n",
      "Epoch 1/1\n",
      "2s - loss: 1.1072 - categorical_accuracy: 0.7262\n",
      "Current epoch: 86\n",
      "Epoch 1/1\n",
      "2s - loss: 1.1032 - categorical_accuracy: 0.7401\n",
      "Current epoch: 87\n",
      "Epoch 1/1\n",
      "2s - loss: 1.1008 - categorical_accuracy: 0.7395\n",
      "Current epoch: 88\n",
      "Epoch 1/1\n",
      "2s - loss: 1.0946 - categorical_accuracy: 0.7369\n",
      "Current epoch: 89\n",
      "Epoch 1/1\n",
      "2s - loss: 1.0923 - categorical_accuracy: 0.7285\n",
      "Current epoch: 90\n",
      "Epoch 1/1\n",
      "2s - loss: 1.0899 - categorical_accuracy: 0.7271\n",
      "Current epoch: 91\n",
      "Epoch 1/1\n",
      "2s - loss: 1.0846 - categorical_accuracy: 0.7373\n",
      "Current epoch: 92\n",
      "Epoch 1/1\n",
      "2s - loss: 1.0825 - categorical_accuracy: 0.7429\n",
      "Current epoch: 93\n",
      "Epoch 1/1\n",
      "2s - loss: 1.0786 - categorical_accuracy: 0.7442\n",
      "Current epoch: 94\n",
      "Epoch 1/1\n",
      "2s - loss: 1.0747 - categorical_accuracy: 0.7424\n",
      "Current epoch: 95\n",
      "Epoch 1/1\n",
      "2s - loss: 1.0741 - categorical_accuracy: 0.7326\n",
      "Current epoch: 96\n",
      "Epoch 1/1\n",
      "2s - loss: 1.0736 - categorical_accuracy: 0.7373\n",
      "Current epoch: 97\n",
      "Epoch 1/1\n",
      "2s - loss: 1.0671 - categorical_accuracy: 0.7453\n",
      "Current epoch: 98\n",
      "Epoch 1/1\n",
      "2s - loss: 1.0647 - categorical_accuracy: 0.7440\n",
      "Current epoch: 99\n",
      "['    d f   eeeeeeeselsee  eeeeete  lslteleeteeeeteeeele           leleettteeeeeeeeelsee          lseltlttteeeeleee           lfellteeeete   eeeeet          lfeltltlteleeteeeete   lflteleeteeeet            lseeeeeeeee eeeeete         leeltttelelteeeee   eeeeeteeeeeelseleeeellsltee  eee           leettteeeeeeeeleeeeeeeeeeleelteeelelteeeee                                   leeeeeeteeeeeeeeeteeeeeeels          leetttteelteelelteeee    seeleteeeeeelseleeeelelte  lflteeeeee           lfettteeeeeeeeleeeteeeeeelselteeeelteelelteeeee                                   leeeeteteeeeeeeeeteeeeeeels          leetttteeeeeltltlteeeee   eeeleteeeeeelseleeeeeeeeel  lflteeeeee           lfetttteeeeeeeteeeteeeeeelselteteeteeltltlteeeee                                   leeeeteteeeeeeeetteeeeeeels           lfetttteltlteteeeteeteleetettlteeelfettltlteteee          lfetttteelteelelteeettteeteleeteetlteeelfettteteelstltelteelelteeeee          lfetttteeteeltltlteeeteteeteleeteetlteeelfetteeteltltlteeeee           lfettttteteltetee', '    dff  eeeeeeeleeeeeeleee           leeleteeeeleeleeleeee          leeleteeeeleelleeeeleeeeleeeeeeeeeee          leeeelee  eleeeeteeeelseltlelteeeeeeeleee          leeleteeeeleeleeeeeeeeeeeeeeeele          eeee  e  eeeelseleeeeeeeeelseleeeeeee                elee   lseleeeeeelseleeleeee                 leeeeeeeeeleeleeeleeeeeeeleeeeleeseeeee     lfeltlelteleeeeeeeee                  lfeeeleetlelteeeleeeeeeeeelseleeeleeeeeeeleeeelee                                   leleelelteeeeeeeleeeleltee          leeeeteeeeleeleeeeeeeeeeeeeeeeelee', '    dff   eelteeeleee           leeltlelteleeeeeeeee   s          leee  s  lseleeeeeelselelelteleeeleeee               lseltlelteleeeeeeeeeleeleeeeleeeeeeeeelseleeeleeeeeeeleeees eeee           leeeeeeleeleeeeleeee', '    dff   lelteeeleee           leeltlelteleeeeeeeee   eels         leeeeeeeleleeeeleeee', '    dff  elelteeeeeeleee           leeeelee  elseleeeeeelselelelteeeeeeeleee         sleeleteeeeleeleeeeeeeeeeeeeeeele          eeee  e  eeeelseleeeeeeeeelseleeeeeee                elee   lseleeeeeelseleeleeee              lfeeeleetlelteeeleeeeeeeeelseleeeleeeeeeeleeeelee                               leleelelteeeeeeeleeeleltee          leeeeteeeeleeleeeeeeeeeeeeeeeeelee', '    dff  eeeeelelelteeeeeelsee          slseeelee  elseleteeeelseltlelteeeeeeeleee         sleeleteeeeleeleeeeeeeeeeeeeeeele          leee  e  eeeelseleeeeeeeeelseleeeeeee                elee   lseleeeeeelseleeleeee              lfeeeleetlelteeeleeeeeeeeelseleeeleeeeeeeleeeelee                               leleelelteeeeeeeleeeeeeele          leeeeteeeeleeleeeeeeeeeeeeeeeeelee']\n",
      "Epoch 1/1\n",
      "2s - loss: 1.0594 - categorical_accuracy: 0.7414\n",
      "Current epoch: 100\n",
      "Epoch 1/1\n",
      "2s - loss: 1.0559 - categorical_accuracy: 0.7378\n",
      "Current epoch: 101\n",
      "Epoch 1/1\n",
      "2s - loss: 1.0535 - categorical_accuracy: 0.7401\n",
      "Current epoch: 102\n",
      "Epoch 1/1\n",
      "2s - loss: 1.0476 - categorical_accuracy: 0.7458\n",
      "Current epoch: 103\n",
      "Epoch 1/1\n",
      "2s - loss: 1.0444 - categorical_accuracy: 0.7561\n",
      "Current epoch: 104\n",
      "Epoch 1/1\n",
      "2s - loss: 1.0415 - categorical_accuracy: 0.7579\n",
      "Current epoch: 105\n",
      "Epoch 1/1\n",
      "2s - loss: 1.0367 - categorical_accuracy: 0.7566\n",
      "Current epoch: 106\n",
      "Epoch 1/1\n",
      "2s - loss: 1.0339 - categorical_accuracy: 0.7489\n",
      "Current epoch: 107\n",
      "Epoch 1/1\n",
      "2s - loss: 1.0291 - categorical_accuracy: 0.7504\n",
      "Current epoch: 108\n",
      "Epoch 1/1\n",
      "2s - loss: 1.0252 - categorical_accuracy: 0.7556\n",
      "Current epoch: 109\n",
      "Epoch 1/1\n",
      "2s - loss: 1.0217 - categorical_accuracy: 0.7589\n",
      "Current epoch: 110\n",
      "Epoch 1/1\n",
      "2s - loss: 1.0172 - categorical_accuracy: 0.7599\n",
      "Current epoch: 111\n",
      "Epoch 1/1\n",
      "2s - loss: 1.0135 - categorical_accuracy: 0.7589\n",
      "Current epoch: 112\n",
      "Epoch 1/1\n",
      "2s - loss: 1.0096 - categorical_accuracy: 0.7604\n",
      "Current epoch: 113\n",
      "Epoch 1/1\n",
      "2s - loss: 1.0053 - categorical_accuracy: 0.7677\n",
      "Current epoch: 114\n",
      "Epoch 1/1\n",
      "2s - loss: 1.0014 - categorical_accuracy: 0.7693\n",
      "Current epoch: 115\n",
      "Epoch 1/1\n",
      "2s - loss: 0.9976 - categorical_accuracy: 0.7682\n",
      "Current epoch: 116\n",
      "Epoch 1/1\n",
      "2s - loss: 0.9946 - categorical_accuracy: 0.7677\n",
      "Current epoch: 117\n",
      "Epoch 1/1\n",
      "2s - loss: 0.9978 - categorical_accuracy: 0.7625\n",
      "Current epoch: 118\n",
      "Epoch 1/1\n",
      "2s - loss: 0.9872 - categorical_accuracy: 0.7731\n",
      "Current epoch: 119\n",
      "Epoch 1/1\n",
      "2s - loss: 0.9904 - categorical_accuracy: 0.7721\n",
      "Current epoch: 120\n",
      "Epoch 1/1\n",
      "2s - loss: 0.9830 - categorical_accuracy: 0.7646\n",
      "Current epoch: 121\n",
      "Epoch 1/1\n",
      "2s - loss: 0.9820 - categorical_accuracy: 0.7654\n",
      "Current epoch: 122\n",
      "Epoch 1/1\n",
      "2s - loss: 0.9715 - categorical_accuracy: 0.7752\n",
      "Current epoch: 123\n",
      "Epoch 1/1\n",
      "2s - loss: 0.9719 - categorical_accuracy: 0.7728\n",
      "Current epoch: 124\n",
      "Epoch 1/1\n",
      "2s - loss: 0.9639 - categorical_accuracy: 0.7747\n",
      "Current epoch: 125\n",
      "Epoch 1/1\n",
      "2s - loss: 0.9612 - categorical_accuracy: 0.7741\n",
      "Current epoch: 126\n",
      "Epoch 1/1\n",
      "2s - loss: 0.9554 - categorical_accuracy: 0.7798\n",
      "Current epoch: 127\n",
      "Epoch 1/1\n",
      "2s - loss: 0.9506 - categorical_accuracy: 0.7806\n",
      "Current epoch: 128\n",
      "Epoch 1/1\n",
      "2s - loss: 0.9462 - categorical_accuracy: 0.7785\n",
      "Current epoch: 129\n",
      "Epoch 1/1\n",
      "2s - loss: 0.9400 - categorical_accuracy: 0.7796\n",
      "Current epoch: 130\n",
      "Epoch 1/1\n",
      "2s - loss: 0.9360 - categorical_accuracy: 0.7782\n",
      "Current epoch: 131\n",
      "Epoch 1/1\n",
      "2s - loss: 0.9310 - categorical_accuracy: 0.7834\n",
      "Current epoch: 132\n",
      "Epoch 1/1\n",
      "2s - loss: 0.9263 - categorical_accuracy: 0.7873\n",
      "Current epoch: 133\n",
      "Epoch 1/1\n",
      "2s - loss: 0.9229 - categorical_accuracy: 0.7875\n",
      "Current epoch: 134\n",
      "Epoch 1/1\n",
      "2s - loss: 0.9191 - categorical_accuracy: 0.7842\n",
      "Current epoch: 135\n",
      "Epoch 1/1\n",
      "2s - loss: 0.9131 - categorical_accuracy: 0.7876\n",
      "Current epoch: 136\n",
      "Epoch 1/1\n",
      "2s - loss: 0.9088 - categorical_accuracy: 0.7893\n",
      "Current epoch: 137\n",
      "Epoch 1/1\n",
      "2s - loss: 0.9028 - categorical_accuracy: 0.7896\n",
      "Current epoch: 138\n",
      "Epoch 1/1\n",
      "2s - loss: 0.8996 - categorical_accuracy: 0.7914\n",
      "Current epoch: 139\n",
      "Epoch 1/1\n",
      "2s - loss: 0.8949 - categorical_accuracy: 0.7935\n",
      "Current epoch: 140\n",
      "Epoch 1/1\n",
      "2s - loss: 0.8929 - categorical_accuracy: 0.7942\n",
      "Current epoch: 141\n",
      "Epoch 1/1\n",
      "2s - loss: 0.8823 - categorical_accuracy: 0.7929\n",
      "Current epoch: 142\n",
      "Epoch 1/1\n",
      "2s - loss: 0.8845 - categorical_accuracy: 0.7961\n",
      "Current epoch: 143\n",
      "Epoch 1/1\n",
      "2s - loss: 0.8753 - categorical_accuracy: 0.7973\n",
      "Current epoch: 144\n",
      "Epoch 1/1\n",
      "2s - loss: 0.8703 - categorical_accuracy: 0.7960\n",
      "Current epoch: 145\n",
      "Epoch 1/1\n",
      "2s - loss: 0.8592 - categorical_accuracy: 0.7937\n",
      "Current epoch: 146\n",
      "Epoch 1/1\n",
      "2s - loss: 0.8557 - categorical_accuracy: 0.7976\n",
      "Current epoch: 147\n",
      "Epoch 1/1\n",
      "2s - loss: 0.8516 - categorical_accuracy: 0.8015\n",
      "Current epoch: 148\n",
      "Epoch 1/1\n",
      "2s - loss: 0.8706 - categorical_accuracy: 0.7948\n",
      "Current epoch: 149\n",
      "Epoch 1/1\n",
      "2s - loss: 0.8425 - categorical_accuracy: 0.7969\n",
      "Current epoch: 150\n",
      "Epoch 1/1\n",
      "2s - loss: 0.8537 - categorical_accuracy: 0.7933\n",
      "Current epoch: 151\n",
      "Epoch 1/1\n",
      "2s - loss: 0.8398 - categorical_accuracy: 0.8004\n",
      "Current epoch: 152\n",
      "Epoch 1/1\n",
      "2s - loss: 0.8309 - categorical_accuracy: 0.8007\n",
      "Current epoch: 153\n",
      "Epoch 1/1\n",
      "2s - loss: 0.8358 - categorical_accuracy: 0.7953\n",
      "Current epoch: 154\n",
      "Epoch 1/1\n",
      "2s - loss: 0.8196 - categorical_accuracy: 0.8087\n",
      "Current epoch: 155\n",
      "Epoch 1/1\n",
      "2s - loss: 0.8193 - categorical_accuracy: 0.8082\n",
      "Current epoch: 156\n",
      "Epoch 1/1\n",
      "2s - loss: 0.8068 - categorical_accuracy: 0.8059\n",
      "Current epoch: 157\n",
      "Epoch 1/1\n",
      "2s - loss: 0.8014 - categorical_accuracy: 0.8026\n",
      "Current epoch: 158\n",
      "Epoch 1/1\n",
      "2s - loss: 0.8002 - categorical_accuracy: 0.8097\n",
      "Current epoch: 159\n",
      "Epoch 1/1\n",
      "2s - loss: 0.7892 - categorical_accuracy: 0.8072\n",
      "Current epoch: 160\n",
      "Epoch 1/1\n",
      "2s - loss: 0.7886 - categorical_accuracy: 0.8075\n",
      "Current epoch: 161\n",
      "Epoch 1/1\n",
      "2s - loss: 0.7812 - categorical_accuracy: 0.8123\n",
      "Current epoch: 162\n",
      "Epoch 1/1\n",
      "2s - loss: 0.7732 - categorical_accuracy: 0.8113\n",
      "Current epoch: 163\n",
      "Epoch 1/1\n",
      "2s - loss: 0.7713 - categorical_accuracy: 0.8165\n",
      "Current epoch: 164\n",
      "Epoch 1/1\n",
      "2s - loss: 0.7614 - categorical_accuracy: 0.8204\n",
      "Current epoch: 165\n",
      "Epoch 1/1\n",
      "2s - loss: 0.7576 - categorical_accuracy: 0.8201\n",
      "Current epoch: 166\n",
      "Epoch 1/1\n",
      "2s - loss: 0.7510 - categorical_accuracy: 0.8195\n",
      "Current epoch: 167\n",
      "Epoch 1/1\n",
      "2s - loss: 0.7442 - categorical_accuracy: 0.8237\n",
      "Current epoch: 168\n",
      "Epoch 1/1\n",
      "2s - loss: 0.7386 - categorical_accuracy: 0.8250\n",
      "Current epoch: 169\n",
      "Epoch 1/1\n",
      "2s - loss: 0.7385 - categorical_accuracy: 0.8224\n",
      "Current epoch: 170\n",
      "Epoch 1/1\n",
      "2s - loss: 0.7386 - categorical_accuracy: 0.8265\n",
      "Current epoch: 171\n",
      "Epoch 1/1\n",
      "2s - loss: 0.7394 - categorical_accuracy: 0.8204\n",
      "Current epoch: 172\n",
      "Epoch 1/1\n",
      "2s - loss: 0.7302 - categorical_accuracy: 0.8244\n",
      "Current epoch: 173\n",
      "Epoch 1/1\n",
      "2s - loss: 0.7216 - categorical_accuracy: 0.8276\n",
      "Current epoch: 174\n",
      "Epoch 1/1\n",
      "2s - loss: 0.7200 - categorical_accuracy: 0.8283\n",
      "Current epoch: 175\n",
      "Epoch 1/1\n",
      "2s - loss: 0.7138 - categorical_accuracy: 0.8328\n",
      "Current epoch: 176\n",
      "Epoch 1/1\n",
      "2s - loss: 0.7092 - categorical_accuracy: 0.8338\n",
      "Current epoch: 177\n",
      "Epoch 1/1\n",
      "2s - loss: 0.7072 - categorical_accuracy: 0.8322\n",
      "Current epoch: 178\n",
      "Epoch 1/1\n",
      "2s - loss: 0.6985 - categorical_accuracy: 0.8371\n",
      "Current epoch: 179\n",
      "Epoch 1/1\n",
      "2s - loss: 0.7022 - categorical_accuracy: 0.8346\n",
      "Current epoch: 180\n",
      "Epoch 1/1\n"
     ]
    }
   ],
   "source": [
    "while True:\n",
    "    if cur_epoch >= num_epochs:\n",
    "        break\n",
    "    model.fit(X, X, batch_size=len(X), nb_epoch=1, verbose=2, shuffle=False, callbacks=[reduce_lr, early_stopping, model_checkpoint])\n",
    "    print(\"Current epoch: %s\" % cur_epoch)\n",
    "    cur_epoch += 1\n",
    "    if cur_epoch % 100 == 0:\n",
    "        print(decode_documents(one_hot_conversion(model.predict(X))))"
   ]
  },
  {
   "cell_type": "code",
   "execution_count": null,
   "metadata": {
    "collapsed": false
   },
   "outputs": [],
   "source": [
    "# summarize performance of the model\n",
    "scores = model.evaluate(X, X, verbose=0)\n",
    "print(\"Model Accuracy: %.2f%%\" % (scores[1]*100))"
   ]
  },
  {
   "cell_type": "code",
   "execution_count": null,
   "metadata": {
    "collapsed": false
   },
   "outputs": [],
   "source": [
    "decode_documents(one_hot_conversion(model.predict(X)))"
   ]
  }
 ],
 "metadata": {
  "kernelspec": {
   "display_name": "Altair",
   "language": "python",
   "name": "altair"
  },
  "language_info": {
   "codemirror_mode": {
    "name": "ipython",
    "version": 3
   },
   "file_extension": ".py",
   "mimetype": "text/x-python",
   "name": "python",
   "nbconvert_exporter": "python",
   "pygments_lexer": "ipython3",
   "version": "3.5.2"
  }
 },
 "nbformat": 4,
 "nbformat_minor": 2
}
